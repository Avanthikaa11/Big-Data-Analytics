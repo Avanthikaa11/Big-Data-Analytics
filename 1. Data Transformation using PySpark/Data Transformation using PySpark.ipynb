{
 "cells": [
  {
   "cell_type": "code",
   "execution_count": 4,
   "id": "526ac9a6-6119-44ef-9f05-aecd5031939d",
   "metadata": {},
   "outputs": [],
   "source": [
    "from pyspark import SparkContext\n",
    "sc = SparkContext.getOrCreate()"
   ]
  },
  {
   "cell_type": "code",
   "execution_count": 6,
   "id": "e3283e1c-facc-4a5c-85ed-85364c9b545f",
   "metadata": {},
   "outputs": [
    {
     "data": {
      "text/html": [
       "\n",
       "        <div>\n",
       "            <p><b>SparkContext</b></p>\n",
       "\n",
       "            <p><a href=\"http://MANIKANTA:4041\">Spark UI</a></p>\n",
       "\n",
       "            <dl>\n",
       "              <dt>Version</dt>\n",
       "                <dd><code>v4.0.1</code></dd>\n",
       "              <dt>Master</dt>\n",
       "                <dd><code>local[*]</code></dd>\n",
       "              <dt>AppName</dt>\n",
       "                <dd><code>pyspark-shell</code></dd>\n",
       "            </dl>\n",
       "        </div>\n",
       "        "
      ],
      "text/plain": [
       "<SparkContext master=local[*] appName=pyspark-shell>"
      ]
     },
     "execution_count": 6,
     "metadata": {},
     "output_type": "execute_result"
    }
   ],
   "source": [
    "sc"
   ]
  },
  {
   "cell_type": "code",
   "execution_count": 7,
   "id": "dfc211f3-735d-4154-a5c2-92233a5c6b9e",
   "metadata": {},
   "outputs": [],
   "source": [
    "import random\n",
    "\n",
    "# Step 1: Initialize SparkContext\n",
    "#sc = SparkContext(\"local\", \"EvenNumberFilter\")"
   ]
  },
  {
   "cell_type": "code",
   "execution_count": 8,
   "id": "970baf81-eb93-4e3e-9f23-efd84577374a",
   "metadata": {},
   "outputs": [
    {
     "name": "stdout",
     "output_type": "stream",
     "text": [
      "Original List:\n",
      "[973, 234, 814, 342, 41, 893, 225, 981, 546, 81, 474, 67, 876, 191, 54, 288, 134, 296, 767, 233, 560, 40, 804, 529, 440, 773, 945, 383, 526, 717, 943, 235, 690, 387, 924, 792, 515, 105, 609, 138, 25, 705, 166, 912, 754, 740, 304, 59, 234, 620, 511, 655, 742, 209, 990, 41, 613, 248, 134, 743, 212, 132, 436, 585, 35, 84, 89, 635, 167, 552, 493, 999, 897, 566, 852, 241, 756, 580, 16, 5, 253, 348, 806, 526, 979, 62, 956, 346, 341, 426, 515, 627, 239, 689, 541, 120, 307, 978, 49, 882]\n"
     ]
    }
   ],
   "source": [
    "random_numbers = [random.randint(1, 1000) for _ in range(100)]\n",
    "print(\"Original List:\")\n",
    "print(random_numbers)"
   ]
  },
  {
   "cell_type": "code",
   "execution_count": 9,
   "id": "fc4c7ab8-663c-4d62-ba8e-b627d4e37d90",
   "metadata": {},
   "outputs": [],
   "source": [
    "numbers_rdd = sc.parallelize(random_numbers)"
   ]
  },
  {
   "cell_type": "code",
   "execution_count": 10,
   "id": "32a30174-dc5a-4dce-8aee-7e729488432b",
   "metadata": {},
   "outputs": [],
   "source": [
    "even_numbers_rdd = numbers_rdd.filter(lambda x: x % 2 == 0)"
   ]
  },
  {
   "cell_type": "code",
   "execution_count": 12,
   "id": "018de0c5-3126-40d5-bf6b-2544d71c5929",
   "metadata": {},
   "outputs": [
    {
     "name": "stdout",
     "output_type": "stream",
     "text": [
      "\n",
      "Even Numbers:\n",
      "[234, 814, 342, 546, 474, 876, 54, 288, 134, 296, 560, 40, 804, 440, 526, 690, 924, 792, 138, 166, 912, 754, 740, 304, 234, 620, 742, 990, 248, 134, 212, 132, 436, 84, 552, 566, 852, 756, 580, 16, 348, 806, 526, 62, 956, 346, 426, 120, 978, 882]\n"
     ]
    }
   ],
   "source": [
    "even_numbers = even_numbers_rdd.collect()\n",
    "print(\"\\nEven Numbers:\")\n",
    "print(even_numbers)"
   ]
  },
  {
   "cell_type": "code",
   "execution_count": null,
   "id": "80878bf2-455b-48b8-a823-4eb68fc910cb",
   "metadata": {},
   "outputs": [],
   "source": []
  }
 ],
 "metadata": {
  "kernelspec": {
   "display_name": "Python (PySpark)",
   "language": "python",
   "name": "pyspark-venv"
  },
  "language_info": {
   "codemirror_mode": {
    "name": "ipython",
    "version": 3
   },
   "file_extension": ".py",
   "mimetype": "text/x-python",
   "name": "python",
   "nbconvert_exporter": "python",
   "pygments_lexer": "ipython3",
   "version": "3.11.9"
  }
 },
 "nbformat": 4,
 "nbformat_minor": 5
}
