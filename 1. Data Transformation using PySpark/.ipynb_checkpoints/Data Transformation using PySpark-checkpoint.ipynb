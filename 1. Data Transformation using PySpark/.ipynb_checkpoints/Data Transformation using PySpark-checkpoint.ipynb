{
 "cells": [
  {
   "cell_type": "markdown",
   "id": "301ef5cb-bb6d-4a76-b762-2ca6718b1a35",
   "metadata": {},
   "source": [
    "# Data Transformation like filtering even numbers using PySpark"
   ]
  },
  {
   "cell_type": "code",
   "execution_count": 1,
   "id": "526ac9a6-6119-44ef-9f05-aecd5031939d",
   "metadata": {},
   "outputs": [],
   "source": [
    "from pyspark import SparkContext\n",
    "sc = SparkContext.getOrCreate()"
   ]
  },
  {
   "cell_type": "code",
   "execution_count": 2,
   "id": "e3283e1c-facc-4a5c-85ed-85364c9b545f",
   "metadata": {},
   "outputs": [
    {
     "data": {
      "text/html": [
       "\n",
       "        <div>\n",
       "            <p><b>SparkContext</b></p>\n",
       "\n",
       "            <p><a href=\"http://MANIKANTA.lan:4040\">Spark UI</a></p>\n",
       "\n",
       "            <dl>\n",
       "              <dt>Version</dt>\n",
       "                <dd><code>v4.0.1</code></dd>\n",
       "              <dt>Master</dt>\n",
       "                <dd><code>local[*]</code></dd>\n",
       "              <dt>AppName</dt>\n",
       "                <dd><code>pyspark-shell</code></dd>\n",
       "            </dl>\n",
       "        </div>\n",
       "        "
      ],
      "text/plain": [
       "<SparkContext master=local[*] appName=pyspark-shell>"
      ]
     },
     "execution_count": 2,
     "metadata": {},
     "output_type": "execute_result"
    }
   ],
   "source": [
    "sc"
   ]
  },
  {
   "cell_type": "code",
   "execution_count": 3,
   "id": "dfc211f3-735d-4154-a5c2-92233a5c6b9e",
   "metadata": {},
   "outputs": [],
   "source": [
    "import random\n",
    "\n",
    "# Step 1: Initialize SparkContext\n",
    "#sc = SparkContext(\"local\", \"EvenNumberFilter\")"
   ]
  },
  {
   "cell_type": "code",
   "execution_count": 4,
   "id": "970baf81-eb93-4e3e-9f23-efd84577374a",
   "metadata": {},
   "outputs": [
    {
     "name": "stdout",
     "output_type": "stream",
     "text": [
      "Original List:\n",
      "[569, 153, 184, 947, 315, 780, 980, 795, 455, 661, 634, 201, 768, 778, 553, 266, 360, 280, 473, 460, 71, 632, 214, 721, 931, 649, 303, 69, 975, 304, 260, 455, 813, 607, 270, 571, 515, 210, 61, 295, 167, 768, 899, 171, 584, 777, 546, 685, 775, 639, 727, 683, 538, 118, 598, 448, 293, 738, 521, 627, 107, 598, 600, 381, 813, 355, 458, 552, 154, 622, 683, 539, 431, 785, 2, 87, 556, 161, 987, 415, 234, 843, 863, 713, 2, 146, 975, 971, 524, 822, 714, 639, 966, 315, 432, 61, 707, 513, 473, 193]\n"
     ]
    }
   ],
   "source": [
    "random_numbers = [random.randint(1, 1000) for _ in range(100)]\n",
    "print(\"Original List:\")\n",
    "print(random_numbers)"
   ]
  },
  {
   "cell_type": "code",
   "execution_count": 5,
   "id": "fc4c7ab8-663c-4d62-ba8e-b627d4e37d90",
   "metadata": {},
   "outputs": [],
   "source": [
    "numbers_rdd = sc.parallelize(random_numbers)"
   ]
  },
  {
   "cell_type": "code",
   "execution_count": 6,
   "id": "32a30174-dc5a-4dce-8aee-7e729488432b",
   "metadata": {},
   "outputs": [],
   "source": [
    "even_numbers_rdd = numbers_rdd.filter(lambda x: x % 2 == 0)"
   ]
  },
  {
   "cell_type": "markdown",
   "id": "cac47746-c7e3-4c88-a05d-cd500b547e90",
   "metadata": {},
   "source": [
    "even_numbers = even_numbers_rdd.collect()\n",
    "print(\"\\nEven Numbers:\")\n",
    "print(even_numbers)"
   ]
  }
 ],
 "metadata": {
  "kernelspec": {
   "display_name": "Python (PySpark)",
   "language": "python",
   "name": "pyspark-venv"
  },
  "language_info": {
   "codemirror_mode": {
    "name": "ipython",
    "version": 3
   },
   "file_extension": ".py",
   "mimetype": "text/x-python",
   "name": "python",
   "nbconvert_exporter": "python",
   "pygments_lexer": "ipython3",
   "version": "3.11.9"
  }
 },
 "nbformat": 4,
 "nbformat_minor": 5
}
