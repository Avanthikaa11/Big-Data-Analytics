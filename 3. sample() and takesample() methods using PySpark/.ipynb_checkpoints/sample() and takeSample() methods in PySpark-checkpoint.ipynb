{
 "cells": [
  {
   "cell_type": "markdown",
   "id": "02b77fe7-c7f7-4416-a912-fd82af27ad85",
   "metadata": {},
   "source": [
    "# Implement and demonstrate dataset sampling using the sample() and takeSample() methods in PySpark"
   ]
  },
  {
   "cell_type": "code",
   "execution_count": null,
   "id": "5f2d72c2",
   "metadata": {},
   "outputs": [],
   "source": [
    "from pyspark.sql import SparkSession\n",
    "\n",
    "# Step 1: Initialize Spark Session\n",
    "spark = SparkSession.builder.appName(\"SamplingExample\").getOrCreate()"
   ]
  },
  {
   "cell_type": "code",
   "execution_count": null,
   "id": "893416f2",
   "metadata": {},
   "outputs": [],
   "source": [
    "# Step 2: Read CSV file into DataFrame\n",
    "df = spark.read.csv(\"students.csv\", header=True, inferSchema=True)"
   ]
  },
  {
   "cell_type": "code",
   "execution_count": null,
   "id": "cfc54bda",
   "metadata": {},
   "outputs": [],
   "source": [
    "# 1. View first 5 rows\n",
    "print(\"=== First 5 rows of dataset ===\")\n",
    "df.show(5)"
   ]
  },
  {
   "cell_type": "code",
   "execution_count": null,
   "id": "416f4da6",
   "metadata": {},
   "outputs": [],
   "source": [
    "# 2. Print schema\n",
    "print(\"=== Schema of dataset ===\")\n",
    "df.printSchema()"
   ]
  },
  {
   "cell_type": "code",
   "execution_count": null,
   "id": "68057120",
   "metadata": {},
   "outputs": [],
   "source": [
    "# 3. Random sample without replacement (30% of data)\n",
    "print(\"=== Sample (30% without replacement) ===\")\n",
    "df.sample(withReplacement=False, fraction=0.3, seed=42).show(10)"
   ]
  },
  {
   "cell_type": "code",
   "execution_count": null,
   "id": "e9e68981",
   "metadata": {},
   "outputs": [],
   "source": [
    "# 4. Random sample with replacement (20% of data)\n",
    "print(\"=== Sample (20% with replacement) ===\")\n",
    "df.sample(withReplacement=True, fraction=0.2, seed=42).show(10)"
   ]
  },
  {
   "cell_type": "code",
   "execution_count": null,
   "id": "adddb480",
   "metadata": {},
   "outputs": [],
   "source": [
    "# 5. Take a random sample of 5 rows using takeSample (without replacement)\n",
    "print(\"=== takeSample: 5 rows (without replacement) ===\")\n",
    "sampled_rows = df.rdd.takeSample(False, 5, seed=42)\n",
    "for row in sampled_rows:\n",
    "    print(row)"
   ]
  },
  {
   "cell_type": "code",
   "execution_count": null,
   "id": "b2ef0b95",
   "metadata": {},
   "outputs": [],
   "source": [
    "# 6. Take a random sample of 5 rows using takeSample (with replacement)\n",
    "print(\"=== takeSample: 5 rows (with replacement) ===\")\n",
    "sampled_rows_wr = df.rdd.takeSample(True, 5, seed=42)\n",
    "for row in sampled_rows_wr:\n",
    "    print(row)"
   ]
  },
  {
   "cell_type": "code",
   "execution_count": null,
   "id": "65bd37e2",
   "metadata": {},
   "outputs": [],
   "source": [
    "# 7. Count total rows (to compare with sampled data size)\n",
    "print(\"Total rows in dataset:\", df.count())\n",
    "\n",
    "# Stop Spark session\n",
    "# spark.stop()"
   ]
  }
 ],
 "metadata": {
  "kernelspec": {
   "display_name": "Python (PySpark)",
   "language": "python",
   "name": "pyspark-venv"
  },
  "language_info": {
   "codemirror_mode": {
    "name": "ipython",
    "version": 3
   },
   "file_extension": ".py",
   "mimetype": "text/x-python",
   "name": "python",
   "nbconvert_exporter": "python",
   "pygments_lexer": "ipython3",
   "version": "3.11.9"
  }
 },
 "nbformat": 4,
 "nbformat_minor": 5
}
